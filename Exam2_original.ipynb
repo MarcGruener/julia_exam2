{
 "cells": [
  {
   "cell_type": "markdown",
   "metadata": {},
   "source": [
    "# Load Packages"
   ]
  },
  {
   "cell_type": "code",
   "execution_count": null,
   "metadata": {},
   "outputs": [],
   "source": [
    "using Printf, Statistics, StatsBase, Random, Distributions\n",
    "include(\"jlFiles/printmat.jl\")\n",
    "Random.seed!(678)          #set the random number generator to this starting point"
   ]
  },
  {
   "cell_type": "code",
   "execution_count": null,
   "metadata": {},
   "outputs": [],
   "source": [
    "using Plots\n",
    "\n",
    "gr(size=(480,320))\n",
    "default(fmt = :svg)"
   ]
  },
  {
   "cell_type": "markdown",
   "metadata": {},
   "source": [
    "# Introduction\n",
    "\n",
    "This exam explores how autocorrelation ought to change how we test statistical hypotheses."
   ]
  },
  {
   "cell_type": "markdown",
   "metadata": {},
   "source": [
    "# Task 1\n",
    "\n",
    "Code a function for simulating $T$ observations from an AR(1) series\n",
    "\n",
    "$\n",
    "y_t = (1-\\rho)\\mu + \\rho y_{t-1} + \\varepsilon_t \\sigma\n",
    "$\n",
    "where $\\varepsilon_t$ is N(0,1).\n",
    "\n",
    "That is, generate $y_1,y_2,...,y_T$ from this formula.\n",
    "\n",
    "To make also the starting value ($y_0$) random, simulate $T+100$ data points, but then discard the first 100 values of $y_t$.\n",
    "\n",
    "Generate a single \"sample\" using `(T,ρ,σ,μ) = (500,0,3,2)`. Calculate and report the average (mean) and the first 5 autocorrelations (hint: `autocor()`) of this sample. Redo a 2nd time, but with `ρ=0.75`."
   ]
  },
  {
   "cell_type": "code",
   "execution_count": null,
   "metadata": {},
   "outputs": [],
   "source": [
    "(T,ρ,σ,μ) = (500,0,3,2)\n",
    "\n",
    "y = SimAR1(T,ρ,σ,μ)\n",
    "\n",
    "..."
   ]
  },
  {
   "cell_type": "markdown",
   "metadata": {},
   "source": [
    "# Task 2\n",
    "\n",
    "Do a Monte Carlo simulation. Use the parameters `(T,ρ,σ,μ) = (500,0,3,2)`.\n",
    "\n",
    "1. Generate a sample with $T$ observations and calculate the average. Repeat $M=10,000$ times and store the estimated averages in a vector of length $M$. (The rest of the question uses the symbol $\\mu_i$ to denote the average from sample $i$.)\n",
    "\n",
    "2. What is average $\\mu_i$ across the $M$ estimates? (That is, what is $\\frac{1}{M}\\sum\\nolimits_{i=1}^{M}\\mu_i$?) _Report_ the result.\n",
    "\n",
    "3. What is the standard deviation of $\\mu_i$ across the $M$ estimates? Compare with the theoretical standard deviation (see below). _Report_ the result.\n",
    "\n",
    "4. Does the distribution of $\\mu_i$ look normal? _Plot_ a histogram and compare with the theoretical pdf (see below).\n",
    "\n",
    "\n",
    "## ...basic stats (the theoretical results)\n",
    "\n",
    "says that the sample average of an iid (\"independently and identically distributed\") data series is normally distributed with a mean equal to the true (population) mean $\\mu$ and a standard deviation equal to $s=\\sigma_y/\\sqrt{T}$ where $\\sigma_y$ is the standard deviation of $y$.\n",
    "\n",
    "To compare with our simulation results, you could estimate $\\sigma_y$ from a single simulation with very many observations (say 10'000)."
   ]
  },
  {
   "cell_type": "markdown",
   "metadata": {},
   "source": [
    "# Task 3\n",
    "\n",
    "Redo task 2, but now use  `ρ=0.75` (the other parameters are unchanged)."
   ]
  },
  {
   "cell_type": "markdown",
   "metadata": {},
   "source": [
    "# Task 4\n",
    "\n",
    "You decide to test the hypothesis that $\\mu=2$. Your decision rule is \n",
    "\n",
    "- reject the hypothesis if $|(\\mu_i-2)/s|>1.645$ with $s=\\sigma_y/\\sqrt{T}$\n",
    "\n",
    "With this decision rule, you are clearly assuming that the theoretical result (definition of $s$) is correct.\n",
    "\n",
    "Estimate both $\\mu_i$ and $\\sigma_y$ from each sample.\n",
    "\n",
    "In what fraction of the $M$ simulation do you reject your hypothesis when $\\rho=0$ and when $\\rho=0.75$? For the other parameters, use `(T,σ,μ) = (500,3,2)` (same as before)."
   ]
  },
  {
   "cell_type": "code",
   "execution_count": null,
   "metadata": {},
   "outputs": [],
   "source": []
  }
 ],
 "metadata": {
  "@webio": {
   "lastCommId": null,
   "lastKernelId": null
  },
  "kernelspec": {
   "display_name": "Julia 1.7.0",
   "language": "julia",
   "name": "julia-1.7"
  },
  "language_info": {
   "file_extension": ".jl",
   "mimetype": "application/julia",
   "name": "julia",
   "version": "1.7.0"
  }
 },
 "nbformat": 4,
 "nbformat_minor": 4
}
